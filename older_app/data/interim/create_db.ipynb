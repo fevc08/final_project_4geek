{
 "cells": [
  {
   "cell_type": "markdown",
   "metadata": {},
   "source": [
    "# Almacenamiento y tratamiento de conjunto de datos "
   ]
  },
  {
   "cell_type": "code",
   "execution_count": 63,
   "metadata": {},
   "outputs": [],
   "source": [
    "import pandas as pd\n",
    "\n",
    "productos = pd.read_csv('../raw/scrap_cav/productos.csv') \n",
    "meridaje = pd.read_csv('../raw/meridaje.csv')\n",
    "ranking = pd.read_csv('../raw/brand_shopper_rank.csv') \n"
   ]
  },
  {
   "cell_type": "code",
   "execution_count": 64,
   "metadata": {},
   "outputs": [
    {
     "data": {
      "text/plain": [
       "3604"
      ]
     },
     "execution_count": 64,
     "metadata": {},
     "output_type": "execute_result"
    }
   ],
   "source": [
    "import sqlite3\n",
    "\n",
    "conn = sqlite3.connect(\"../wine_db.db\")\n",
    "productos.to_sql(\"productos\", conn, if_exists=\"replace\", index=False)\n",
    "meridaje.to_sql(\"meridaje\", conn, if_exists=\"replace\", index=False)\n",
    "ranking.to_sql(\"ranking\", conn, if_exists=\"replace\", index=False)"
   ]
  },
  {
   "cell_type": "code",
   "execution_count": 65,
   "metadata": {},
   "outputs": [
    {
     "name": "stdout",
     "output_type": "stream",
     "text": [
      "<class 'pandas.core.frame.DataFrame'>\n",
      "RangeIndex: 44500 entries, 0 to 44499\n",
      "Data columns (total 36 columns):\n",
      " #   Column                  Non-Null Count  Dtype  \n",
      "---  ------                  --------------  -----  \n",
      " 0   URL                     44500 non-null  object \n",
      " 1   ID del producto         44500 non-null  int64  \n",
      " 2   SKU del producto        44500 non-null  int64  \n",
      " 3   Nombre del producto     44500 non-null  object \n",
      " 4   brand                   44500 non-null  object \n",
      " 5   Categoría del producto  44500 non-null  object \n",
      " 6   variante                44500 non-null  object \n",
      " 7   Precio del producto     44500 non-null  int64  \n",
      " 8   Puntaje de La Cav       44500 non-null  object \n",
      " 9   Descripción             25755 non-null  object \n",
      " 10  Precio Socio            44500 non-null  object \n",
      " 11  Precio Normal           44500 non-null  object \n",
      " 12  Stock                   44500 non-null  object \n",
      " 13  URL de la imagen        44500 non-null  object \n",
      " 14  Viña                    44500 non-null  object \n",
      " 15  Cepa                    44500 non-null  object \n",
      " 16  Cosecha                 42918 non-null  float64\n",
      " 17  Procedencia             44500 non-null  object \n",
      " 18  Línea                   44500 non-null  object \n",
      " 19  Formato                 44500 non-null  object \n",
      " 20  Tipo                    44500 non-null  object \n",
      " 21  Alcohol                 11519 non-null  object \n",
      " 22  Mezcla                  11519 non-null  object \n",
      " 23  Guarda                  11519 non-null  object \n",
      " 24  Maridaje                27345 non-null  object \n",
      " 25  Cuerpo                  11519 non-null  float64\n",
      " 26  Frescor                 11519 non-null  float64\n",
      " 27  Dulzura                 11519 non-null  float64\n",
      " 28  Astringencia            11519 non-null  float64\n",
      " 29  variante                44500 non-null  object \n",
      " 30  meridaje                44500 non-null  object \n",
      " 31  brand                   25331 non-null  object \n",
      " 32  gender                  25331 non-null  object \n",
      " 33  age                     25331 non-null  object \n",
      " 34  ses                     25331 non-null  object \n",
      " 35  rank                    25331 non-null  float64\n",
      "dtypes: float64(6), int64(3), object(27)\n",
      "memory usage: 12.2+ MB\n"
     ]
    }
   ],
   "source": [
    "query = \"\"\"\n",
    "SELECT *\n",
    "FROM productos\n",
    "JOIN meridaje\n",
    "ON productos.variante = meridaje.variante\n",
    "LEFT JOIN ranking\n",
    "ON productos.brand = ranking.brand\n",
    ";\n",
    "\"\"\"\n",
    "\n",
    "df = pd.read_sql_query(query, conn)\n",
    "\n",
    "conn.close()\n",
    "\n",
    "df.info()"
   ]
  },
  {
   "cell_type": "code",
   "execution_count": 68,
   "metadata": {},
   "outputs": [
    {
     "data": {
      "text/plain": [
       "Index(['URL', 'ID del producto', 'SKU del producto', 'Nombre del producto',\n",
       "       'brand', 'Categoría del producto', 'variante', 'Precio del producto',\n",
       "       'Puntaje de La Cav', 'Descripción', 'Precio Socio', 'Precio Normal',\n",
       "       'Stock', 'URL de la imagen', 'Viña', 'Cepa', 'Cosecha', 'Procedencia',\n",
       "       'Línea', 'Formato', 'Tipo', 'Alcohol', 'Mezcla', 'Guarda', 'Maridaje',\n",
       "       'Cuerpo', 'Frescor', 'Dulzura', 'Astringencia', 'meridaje', 'gender',\n",
       "       'age', 'ses', 'rank'],\n",
       "      dtype='object')"
      ]
     },
     "execution_count": 68,
     "metadata": {},
     "output_type": "execute_result"
    }
   ],
   "source": [
    "df = df.loc[:, ~df.columns.duplicated()]\n",
    "\n",
    "df.columns"
   ]
  },
  {
   "cell_type": "markdown",
   "metadata": {},
   "source": [
    "# Analisis descriptivo "
   ]
  },
  {
   "cell_type": "code",
   "execution_count": null,
   "metadata": {},
   "outputs": [],
   "source": []
  }
 ],
 "metadata": {
  "kernelspec": {
   "display_name": "Python 3",
   "language": "python",
   "name": "python3"
  },
  "language_info": {
   "codemirror_mode": {
    "name": "ipython",
    "version": 3
   },
   "file_extension": ".py",
   "mimetype": "text/x-python",
   "name": "python",
   "nbconvert_exporter": "python",
   "pygments_lexer": "ipython3",
   "version": "3.11.4"
  }
 },
 "nbformat": 4,
 "nbformat_minor": 2
}
